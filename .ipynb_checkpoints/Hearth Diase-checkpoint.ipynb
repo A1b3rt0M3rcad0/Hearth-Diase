{
 "cells": [
  {
   "cell_type": "markdown",
   "id": "c72bac8a-c479-49ef-8c38-dffeba149991",
   "metadata": {},
   "source": [
    "# Importando bibliotecas"
   ]
  },
  {
   "cell_type": "code",
   "execution_count": 149,
   "id": "79c437e1-b36c-4d58-b6fe-273ba37ed79d",
   "metadata": {},
   "outputs": [],
   "source": [
    "import pandas as pd\n",
    "from sklearn.ensemble import RandomForestClassifier, AdaBoostClassifier\n",
    "from sklearn.neural_network import MLPClassifier\n",
    "import seaborn as sns\n",
    "import matplotlib.pyplot as plt\n",
    "from sklearn.model_selection import train_test_split, cross_val_score, StratifiedKFold\n",
    "from sklearn.metrics import confusion_matrix\n",
    "import pickle\n",
    "import warnings\n",
    "warnings.simplefilter('ignore')\n",
    "%matplotlib inline"
   ]
  },
  {
   "cell_type": "markdown",
   "id": "3886da63-4013-4d33-8ed3-eb8473f44acf",
   "metadata": {},
   "source": [
    "# Carregando dataset"
   ]
  },
  {
   "cell_type": "code",
   "execution_count": 2,
   "id": "8bf8b654-6cab-41ab-ba0c-1bf59f322ea3",
   "metadata": {},
   "outputs": [
    {
     "data": {
      "text/html": [
       "<div>\n",
       "<style scoped>\n",
       "    .dataframe tbody tr th:only-of-type {\n",
       "        vertical-align: middle;\n",
       "    }\n",
       "\n",
       "    .dataframe tbody tr th {\n",
       "        vertical-align: top;\n",
       "    }\n",
       "\n",
       "    .dataframe thead th {\n",
       "        text-align: right;\n",
       "    }\n",
       "</style>\n",
       "<table border=\"1\" class=\"dataframe\">\n",
       "  <thead>\n",
       "    <tr style=\"text-align: right;\">\n",
       "      <th></th>\n",
       "      <th>age</th>\n",
       "      <th>sex</th>\n",
       "      <th>cp</th>\n",
       "      <th>trestbps</th>\n",
       "      <th>chol</th>\n",
       "      <th>fbs</th>\n",
       "      <th>restecg</th>\n",
       "      <th>thalach</th>\n",
       "      <th>exang</th>\n",
       "      <th>oldpeak</th>\n",
       "      <th>slope</th>\n",
       "      <th>ca</th>\n",
       "      <th>thal</th>\n",
       "      <th>target</th>\n",
       "    </tr>\n",
       "  </thead>\n",
       "  <tbody>\n",
       "    <tr>\n",
       "      <th>0</th>\n",
       "      <td>63</td>\n",
       "      <td>1</td>\n",
       "      <td>3</td>\n",
       "      <td>145</td>\n",
       "      <td>233</td>\n",
       "      <td>1</td>\n",
       "      <td>0</td>\n",
       "      <td>150</td>\n",
       "      <td>0</td>\n",
       "      <td>2.3</td>\n",
       "      <td>0</td>\n",
       "      <td>0</td>\n",
       "      <td>1</td>\n",
       "      <td>1</td>\n",
       "    </tr>\n",
       "    <tr>\n",
       "      <th>1</th>\n",
       "      <td>37</td>\n",
       "      <td>1</td>\n",
       "      <td>2</td>\n",
       "      <td>130</td>\n",
       "      <td>250</td>\n",
       "      <td>0</td>\n",
       "      <td>1</td>\n",
       "      <td>187</td>\n",
       "      <td>0</td>\n",
       "      <td>3.5</td>\n",
       "      <td>0</td>\n",
       "      <td>0</td>\n",
       "      <td>2</td>\n",
       "      <td>1</td>\n",
       "    </tr>\n",
       "    <tr>\n",
       "      <th>2</th>\n",
       "      <td>41</td>\n",
       "      <td>0</td>\n",
       "      <td>1</td>\n",
       "      <td>130</td>\n",
       "      <td>204</td>\n",
       "      <td>0</td>\n",
       "      <td>0</td>\n",
       "      <td>172</td>\n",
       "      <td>0</td>\n",
       "      <td>1.4</td>\n",
       "      <td>2</td>\n",
       "      <td>0</td>\n",
       "      <td>2</td>\n",
       "      <td>1</td>\n",
       "    </tr>\n",
       "    <tr>\n",
       "      <th>3</th>\n",
       "      <td>56</td>\n",
       "      <td>1</td>\n",
       "      <td>1</td>\n",
       "      <td>120</td>\n",
       "      <td>236</td>\n",
       "      <td>0</td>\n",
       "      <td>1</td>\n",
       "      <td>178</td>\n",
       "      <td>0</td>\n",
       "      <td>0.8</td>\n",
       "      <td>2</td>\n",
       "      <td>0</td>\n",
       "      <td>2</td>\n",
       "      <td>1</td>\n",
       "    </tr>\n",
       "    <tr>\n",
       "      <th>4</th>\n",
       "      <td>57</td>\n",
       "      <td>0</td>\n",
       "      <td>0</td>\n",
       "      <td>120</td>\n",
       "      <td>354</td>\n",
       "      <td>0</td>\n",
       "      <td>1</td>\n",
       "      <td>163</td>\n",
       "      <td>1</td>\n",
       "      <td>0.6</td>\n",
       "      <td>2</td>\n",
       "      <td>0</td>\n",
       "      <td>2</td>\n",
       "      <td>1</td>\n",
       "    </tr>\n",
       "  </tbody>\n",
       "</table>\n",
       "</div>"
      ],
      "text/plain": [
       "   age  sex  cp  trestbps  chol  fbs  restecg  thalach  exang  oldpeak  slope  \\\n",
       "0   63    1   3       145   233    1        0      150      0      2.3      0   \n",
       "1   37    1   2       130   250    0        1      187      0      3.5      0   \n",
       "2   41    0   1       130   204    0        0      172      0      1.4      2   \n",
       "3   56    1   1       120   236    0        1      178      0      0.8      2   \n",
       "4   57    0   0       120   354    0        1      163      1      0.6      2   \n",
       "\n",
       "   ca  thal  target  \n",
       "0   0     1       1  \n",
       "1   0     2       1  \n",
       "2   0     2       1  \n",
       "3   0     2       1  \n",
       "4   0     2       1  "
      ]
     },
     "execution_count": 2,
     "metadata": {},
     "output_type": "execute_result"
    }
   ],
   "source": [
    "df = pd.read_csv('dataset/heart.csv')\n",
    "df.head()"
   ]
  },
  {
   "cell_type": "code",
   "execution_count": 3,
   "id": "2aaedd08-1263-48ff-983b-49748954d0d4",
   "metadata": {},
   "outputs": [
    {
     "name": "stdout",
     "output_type": "stream",
     "text": [
      "<class 'pandas.core.frame.DataFrame'>\n",
      "RangeIndex: 303 entries, 0 to 302\n",
      "Data columns (total 14 columns):\n",
      " #   Column    Non-Null Count  Dtype  \n",
      "---  ------    --------------  -----  \n",
      " 0   age       303 non-null    int64  \n",
      " 1   sex       303 non-null    int64  \n",
      " 2   cp        303 non-null    int64  \n",
      " 3   trestbps  303 non-null    int64  \n",
      " 4   chol      303 non-null    int64  \n",
      " 5   fbs       303 non-null    int64  \n",
      " 6   restecg   303 non-null    int64  \n",
      " 7   thalach   303 non-null    int64  \n",
      " 8   exang     303 non-null    int64  \n",
      " 9   oldpeak   303 non-null    float64\n",
      " 10  slope     303 non-null    int64  \n",
      " 11  ca        303 non-null    int64  \n",
      " 12  thal      303 non-null    int64  \n",
      " 13  target    303 non-null    int64  \n",
      "dtypes: float64(1), int64(13)\n",
      "memory usage: 33.3 KB\n"
     ]
    }
   ],
   "source": [
    "df.info()"
   ]
  },
  {
   "cell_type": "markdown",
   "id": "09172e5d-581b-4868-be26-b30546cc4a90",
   "metadata": {},
   "source": [
    "Verificando distribuição das classes alvo"
   ]
  },
  {
   "cell_type": "code",
   "execution_count": 4,
   "id": "5436cc32-1602-4d71-9937-f87a6d884797",
   "metadata": {},
   "outputs": [
    {
     "data": {
      "image/png": "[encoded data removed]",
      "text/plain": [
       "<Figure size 640x480 with 1 Axes>"
      ]
     },
     "metadata": {},
     "output_type": "display_data"
    }
   ],
   "source": [
    "bar, ax = plt.subplots()\n",
    "ax = sns.barplot(df['target'].value_counts())\n",
    "ax.set_title('Count Dist Targets');"
   ]
  },
  {
   "cell_type": "markdown",
   "id": "5d7d8703-6af4-4184-99d1-62a700e649e1",
   "metadata": {},
   "source": [
    "_Faremos a divisão dos atributos previsões e dos alvos em 2 variáveis distintas_"
   ]
  },
  {
   "cell_type": "code",
   "execution_count": 21,
   "id": "245a9dd5-74a4-4c9c-af30-37148a67c4d8",
   "metadata": {},
   "outputs": [],
   "source": [
    "X = df.drop(columns=['target'])\n",
    "y = df['target']"
   ]
  },
  {
   "cell_type": "markdown",
   "id": "6c1bac21-1f06-4620-8f3f-74f47d2e41fc",
   "metadata": {},
   "source": [
    "# Criando modelos"
   ]
  },
  {
   "cell_type": "code",
   "execution_count": 100,
   "id": "878faa9c-34c2-449b-ac4f-a22ac6cc6e83",
   "metadata": {},
   "outputs": [],
   "source": [
    "models = {\n",
    "    'RandomForestClassifier': RandomForestClassifier(),\n",
    "    'AdaBoostClassifier': AdaBoostClassifier(),\n",
    "    'MLPClassifier': MLPClassifier((16, 16, 16), tol=1e-5, max_iter=400)\n",
    "}"
   ]
  },
  {
   "cell_type": "markdown",
   "id": "d3e5d4ed-d671-4f7d-9281-59822f810e48",
   "metadata": {},
   "source": [
    "# Avaliando modelos"
   ]
  },
  {
   "cell_type": "markdown",
   "id": "360fa080-811c-4a65-b89d-ce414c4f9459",
   "metadata": {},
   "source": [
    "Para avaliar os modelos vamos utilizar validação cruzada utilizando uma divisão de 9, ou seja\n",
    "para cada treino e teste realizado teremos, 270 registro de treino e 33 registros de testes."
   ]
  },
  {
   "cell_type": "code",
   "execution_count": 101,
   "id": "03227254-bd09-41b8-921b-b03c7ef1ac50",
   "metadata": {},
   "outputs": [
    {
     "name": "stdout",
     "output_type": "stream",
     "text": [
      "*=**=**=**=**=**=**=**=**=**=**=**=**=**=**=**=**=**=**=**=**=**=**=**=**=**=**=**=**=**=*\n",
      "RandomForestClassifier\n",
      "Accurácia: 82.47% ± 5.92\n",
      "*=**=**=**=**=**=**=**=**=**=**=**=**=**=**=**=**=**=**=**=**=**=**=**=**=**=**=**=**=**=*\n",
      "AdaBoostClassifier\n",
      "Accurácia: 80.10% ± 9.42\n",
      "*=**=**=**=**=**=**=**=**=**=**=**=**=**=**=**=**=**=**=**=**=**=**=**=**=**=**=**=**=**=*\n",
      "MLPClassifier\n",
      "Accurácia: 77.20% ± 10.06\n"
     ]
    }
   ],
   "source": [
    "accuracy = {k:{'mean':None,'std':None} for k, _ in models.items()}\n",
    "for k, model in models.items():\n",
    "    r = cross_val_score(model, X, y, n_jobs=-1, cv=9)\n",
    "    accuracy[k]['mean'] = r.mean()\n",
    "    accuracy[k]['std'] = r.std()\n",
    "for model_name, value in accuracy.items():\n",
    "    print('*=*'*30)\n",
    "    print(model_name)\n",
    "    print(f'Accurácia: {value[\"mean\"]*100:.2f}% ± {value[\"std\"]*100:.2f}')"
   ]
  },
  {
   "cell_type": "markdown",
   "id": "9228e8b3-63d2-4dd3-97a9-78242962879a",
   "metadata": {},
   "source": [
    "_Não podemos confiar apenas na accuracia de nossos modelos, para isso então faremos mais testes mas agora avaliando métricas como recall e precision de cada um dos modelos utilizados_"
   ]
  },
  {
   "cell_type": "code",
   "execution_count": 146,
   "id": "b053e658-07ee-4727-9208-a9beb9923060",
   "metadata": {},
   "outputs": [
    {
     "name": "stdout",
     "output_type": "stream",
     "text": [
      "*=**=**=**=**=**=**=**=**=**=**=**=**=**=**=**=**=**=**=**=**=**=**=**=**=**=**=**=**=**=*\n",
      "RANDOMFORESTCLASSIFIER\n",
      "\n",
      "Confusion Matrix:\n",
      " [[21.2  6.4]\n",
      " [ 5.  28. ]] \n",
      "\n",
      "Class 0\n",
      "Recall: 0.77\n",
      "Precision: 0.81\n",
      "\n",
      "Class 1\n",
      "Recall: 0.85\n",
      "Precision: 0.81\n",
      "\n",
      "*=**=**=**=**=**=**=**=**=**=**=**=**=**=**=**=**=**=**=**=**=**=**=**=**=**=**=**=**=**=*\n",
      "ADABOOSTCLASSIFIER\n",
      "\n",
      "Confusion Matrix:\n",
      " [[20.2  7.4]\n",
      " [ 5.6 27.4]] \n",
      "\n",
      "Class 0\n",
      "Recall: 0.73\n",
      "Precision: 0.78\n",
      "\n",
      "Class 1\n",
      "Recall: 0.83\n",
      "Precision: 0.79\n",
      "\n",
      "*=**=**=**=**=**=**=**=**=**=**=**=**=**=**=**=**=**=**=**=**=**=**=**=**=**=**=**=**=**=*\n",
      "MLPCLASSIFIER\n",
      "\n",
      "Confusion Matrix:\n",
      " [[18.8  8.8]\n",
      " [ 6.4 26.6]] \n",
      "\n",
      "Class 0\n",
      "Recall: 0.68\n",
      "Precision: 0.75\n",
      "\n",
      "Class 1\n",
      "Recall: 0.81\n",
      "Precision: 0.75\n",
      "\n"
     ]
    }
   ],
   "source": [
    "skf = StratifiedKFold()\n",
    "metrics = {}\n",
    "for k, model in models.items():\n",
    "    indexes = skf.split(X, y)\n",
    "    metrics[k] = {'confusion_matrix':[]}\n",
    "    for i, (train_index, test_index) in enumerate(indexes):\n",
    "        model.fit(X.iloc[train_index], y.iloc[train_index])\n",
    "        predicts = model.predict(X.iloc[test_index])\n",
    "        cm = confusion_matrix(y.iloc[test_index], predicts)\n",
    "        cr = classification_report(y.iloc[test_index], predicts)\n",
    "        metrics[k]['confusion_matrix'].append(cm)\n",
    "        \n",
    "for model_name, metric in metrics.items():\n",
    "    cm_final = sum(metric['confusion_matrix'])/len(metric['confusion_matrix'])\n",
    "    print('*=*'*30)\n",
    "    print(f'{model_name}\\n'.upper())\n",
    "    print('Confusion Matrix:\\n', cm_final,'\\n')\n",
    "    for i in range(cm.shape[0]):\n",
    "        for k in range(cm.shape[1]):\n",
    "            if i == k:\n",
    "                print(f'Class {i}')\n",
    "                recall = cm_final[i][k] / sum(cm_final[i])\n",
    "                precision = cm_final[i][k] / sum(cm_final[:, k])\n",
    "                print(f'Recall: {recall:.2f}')\n",
    "                print(f'Precision: {precision:.2f}\\n')"
   ]
  },
  {
   "cell_type": "markdown",
   "id": "c66f6378-656c-423d-bf6e-7fd50d8ca9ce",
   "metadata": {},
   "source": [
    "_Se avaliarmos o conjunto das métricas geradas pelos modelos, podemos ver que o modelo que teve melhor desempenho foi o Random forest classifier, então vamos treinar o modelo com toda nossa base de dados e salvar o modelo treinado_"
   ]
  },
  {
   "cell_type": "markdown",
   "id": "5c1efb62-4f28-49a4-a405-7e220770d4ff",
   "metadata": {},
   "source": [
    "# Treinando e salvando modelo"
   ]
  },
  {
   "cell_type": "code",
   "execution_count": 152,
   "id": "b65cec27-a520-46c6-95bb-460563e50b70",
   "metadata": {},
   "outputs": [],
   "source": [
    "final_model = RandomForestClassifier()\n",
    "final_model.fit(X, y)\n",
    "\n",
    "with open('rfc_model.pkl', 'wb') as f:\n",
    "    pickle.dump(final_model, f)"
   ]
  }
 ],
 "metadata": {
  "kernelspec": {
   "display_name": "Python 3 (ipykernel)",
   "language": "python",
   "name": "python3"
  },
  "language_info": {
   "codemirror_mode": {
    "name": "ipython",
    "version": 3
   },
   "file_extension": ".py",
   "mimetype": "text/x-python",
   "name": "python",
   "nbconvert_exporter": "python",
   "pygments_lexer": "ipython3",
   "version": "3.9.13"
  }
 },
 "nbformat": 4,
 "nbformat_minor": 5
}
